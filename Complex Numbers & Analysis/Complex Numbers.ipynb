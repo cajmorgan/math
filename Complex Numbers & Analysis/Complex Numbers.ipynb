{
 "cells": [
  {
   "cell_type": "markdown",
   "id": "e5887369",
   "metadata": {},
   "source": [
    "##"
   ]
  },
  {
   "cell_type": "markdown",
   "id": "13faa549",
   "metadata": {},
   "source": [
    "## Polar Form "
   ]
  },
  {
   "cell_type": "markdown",
   "id": "b398cbc9",
   "metadata": {},
   "source": [
    "## De Moivres Formula\n",
    "\n",
    "\n",
    "\n"
   ]
  }
 ],
 "metadata": {
  "kernelspec": {
   "display_name": "Python 3 (ipykernel)",
   "language": "python",
   "name": "python3"
  },
  "language_info": {
   "codemirror_mode": {
    "name": "ipython",
    "version": 3
   },
   "file_extension": ".py",
   "mimetype": "text/x-python",
   "name": "python",
   "nbconvert_exporter": "python",
   "pygments_lexer": "ipython3",
   "version": "3.9.12"
  }
 },
 "nbformat": 4,
 "nbformat_minor": 5
}
