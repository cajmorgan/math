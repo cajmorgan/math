{
 "cells": [
  {
   "cell_type": "markdown",
   "id": "2178c6a6",
   "metadata": {},
   "source": [
    "# Math Reading Strategy\n",
    "## A Strategy for reading and learn Mathematics from Books and other sources\n",
    "\n",
    "The purpose of this strategy is to learn Mathematics in a iterative process to memorize and effectivize \n",
    "the learning as much as possible. The purpose of this strategy is not that the learning process \n",
    "should be any slower than reading the book in one turn, quite the opposite, it's purpose is to make it much easier \n",
    "to understand the material, through repetitive exposure. \n",
    "\n",
    "As a past musician, this method is inspired from an effective method to memorize long and complex pieces of music. \n",
    "In summary the logic behind that process is that you should learn a piece and in a short amount of time and forget it knowingly.\n",
    "The idea is that when you re-learn the piece, it will take even longer to forget it once again, and after around 3-4 iterations,\n",
    "most of the piece will stick for a very long time, or at least a much longer time than initially.\n",
    "\n",
    "In Mathematics there is so much to learn and I found after studying pretty intensively\n",
    "that it's too easy to forget important aspects, especially when studying in a quick tempo.\n",
    "Therefore this is a strategy I've created with the inspiration from other sources on the web, \n",
    "as a trial to help my study, based on the hypothesis of iterative memorization. \n"
   ]
  },
  {
   "cell_type": "markdown",
   "id": "482fad45",
   "metadata": {},
   "source": [
    "### 1. Overview\n",
    "\n",
    "Start reading/watching the \"easy-to-understand\" overviews of the subject from different sources, presumably from Wikipedia, Mathisfun, Khan Academy, YouTube or other good sources where you can find comprehensible information for a first read. Here you don't have to understand any details, just what the subject is about and some keywords and important areas in the branch. Also, if there is an application area, see if you can find a short summary regarding that. \n"
   ]
  },
  {
   "cell_type": "markdown",
   "id": "2b1a2e5e",
   "metadata": {},
   "source": [
    "### 2. Investigate\n",
    "\n",
    "The second step is an extension of the previous one where you will start brush off some basic concepts on the surface, through exposing yourself to as much material of the subject as possible. \n",
    "Pick a good book on the target subject and read it through in a fast pace tempo. A goal to have is to read the book in 2 times the number of pages in minutes, which by the way is extremly fast for a books of Mathematics.\n"
   ]
  },
  {
   "cell_type": "code",
   "execution_count": 24,
   "id": "e1ab9015",
   "metadata": {},
   "outputs": [
    {
     "name": "stdout",
     "output_type": "stream",
     "text": [
      "How many pages? 10\n",
      "20 minutes, or 0.16666666666666666 hours\n"
     ]
    }
   ],
   "source": [
    "x = int(input(\"How many pages? \"))\n",
    "print(f'{x*2} minutes, or {x / 60} hours')"
   ]
  },
  {
   "cell_type": "markdown",
   "id": "7895c2cb",
   "metadata": {},
   "source": [
    "The reason for this is that you will forget and not understand most of the stuff, but you will still be exposed to it. If you are like me, the hardest part with this is to not get hanged up on details. The mindset you need to have here is that it's perfectly OK to not understand what's going on. This process should not take more than a week in a normal sized book, most of the times, 2-3 days in study time. While in this process, make sure to watch some shorter videos of the subject and don't care to much about how computations work, have more of a investigative mindset, \n",
    "**what is this subject about and how is it useful?** \n",
    "\n",
    "*Make sure to read through some exercises just to get an idea what's asked for in every chapter.*"
   ]
  },
  {
   "cell_type": "markdown",
   "id": "5e9c057b",
   "metadata": {},
   "source": [
    "### 3. Apply\n",
    "Go back to the beginning of the book and start reading in a slower tempo than before, preferably with a pen & paper. Read through the stuff so you understand it a bit more deeply, re-read things you don't understand but don't get stuck too long on every page. Try out some computations here and there and try to understand the reasoning. Read through the proofs but if you don't understand them fully, skip that for now and most importantly **don't get stuck**. \n",
    "\n",
    "A good idea here is to start writing down all the interesting ideas you come across and important keywords in a document. In this document you can also try to write a summary of every idea that you feel are important and good to have for analysing later. \n",
    "\n",
    "Do a minimum of 10 exercises per chapter and if the book contains way too many, pick some that you feel might be important from every area in the chapter. Solve and repeat for every chapter. **The most important thing about this step is to learn how to apply the ideas in problem solving, not to understand the subject on a more deeper level.**\n",
    "\n"
   ]
  },
  {
   "cell_type": "markdown",
   "id": "cf1d97cd",
   "metadata": {},
   "source": [
    "### 4. Analyze\n",
    "The last and final step, check through the book one last time, but this time from a more analytical point of view. Here it's important to focus on the aspects that you didn't get the first time and to repeat some of the important keywords and areas. This is a good time to do at least 10 more exercises per chapter and try the harder ones that might involve proving things. Re-read the proofs and try understand it on a deeper level. It's perfectly reasonable you spend a long time per page, especially if that page contains important information.\n",
    "\n",
    "Throughout this step, ask yourself any question you can think of, be critical and creative. It's a good idea to be on this step at least some time before an exam to be able to do the more harder questions as they often involve more reasoning and a deeper understanding on the subject. "
   ]
  },
  {
   "cell_type": "code",
   "execution_count": null,
   "id": "647c12ab",
   "metadata": {},
   "outputs": [],
   "source": []
  }
 ],
 "metadata": {
  "kernelspec": {
   "display_name": "Python 3 (ipykernel)",
   "language": "python",
   "name": "python3"
  },
  "language_info": {
   "codemirror_mode": {
    "name": "ipython",
    "version": 3
   },
   "file_extension": ".py",
   "mimetype": "text/x-python",
   "name": "python",
   "nbconvert_exporter": "python",
   "pygments_lexer": "ipython3",
   "version": "3.10.6"
  }
 },
 "nbformat": 4,
 "nbformat_minor": 5
}
