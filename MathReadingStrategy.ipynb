{
 "cells": [
  {
   "cell_type": "markdown",
   "id": "a350c7f9",
   "metadata": {},
   "source": [
    "# Math Exercise Strategy\n",
    "## A exercise based strategy for learning Mathematics from Books\n",
    "\n",
    "This strategy differs a lot from the reading one below in the way that problem solving is the focus rather than reading. Both strategies presented in this text might be useful for different situations, books or persons. I initially started with just focusing on problem solving and then as a test move to the Math Reading Strategy, but as I noticed that I mostly like doing problems and not read, I found out that this strategy might be way better for me.\n",
    "\n",
    "\n"
   ]
  },
  {
   "cell_type": "markdown",
   "id": "438a9f39",
   "metadata": {},
   "source": [
    "### Problems First\n",
    "Before reading a word in the chapter, create a spreadsheet for the book where you can put the indexes of all the exercises per chapter. Use a random sorter to sort the rows randomly and start working the exercise. Try it out and if you have no clue on of how to solve it, mark it with red, leave a small comment on what's hard and move to the next one. If you manage to solve a problem mark it with green and add a comment if it f.e was an interesting solution.\n"
   ]
  },
  {
   "cell_type": "markdown",
   "id": "38f8f7c9",
   "metadata": {},
   "source": [
    "### Read\n",
    "Now with some exercises in your back, read the chapter. Here you can try to implement some strategies from \"Math Reading Strategy\" below or just read it so you understand it, preferably with pen & paper. Also before moving on to the next step, check how the Author solves worked examples, if any. "
   ]
  },
  {
   "cell_type": "markdown",
   "id": "ee8e7819",
   "metadata": {},
   "source": [
    "### More Problems\n",
    "After reading the chapter, do 5-10 problems (minus the ones you did in first step), picked randomly from the sheet. "
   ]
  },
  {
   "cell_type": "markdown",
   "id": "ec9d4d2c",
   "metadata": {},
   "source": [
    "### Cycle & Recycle\n",
    "Move on to the next chapter and do the exact same process, except after doing 5-10 problems, go back to the previous chapter(s) and do 3-6 problems before moving on to the next chapter's problems."
   ]
  },
  {
   "cell_type": "markdown",
   "id": "89c0918e",
   "metadata": {},
   "source": [
    "### Writedown\n",
    "Whenever understanding some good concepts, proofs or find interesting problems/solutions, make sure to write it down in your Mathematical playbook. This is a great way to go back to for review later and refreshing your memory."
   ]
  },
  {
   "cell_type": "markdown",
   "id": "3191e0ad",
   "metadata": {},
   "source": [
    "To summarize\n",
    "\n",
    "#### 1. Attempt problems (counts in the 5-10) in chapter X\n",
    "#### 2. Read\n",
    "#### 3. Do problems so it totals 5-10 with step 1\n",
    "#### 4. Go back to the previous chapters and do a couple\n",
    "#### 5. Go to the chapter after X\n",
    "#### 6. Repeat\n"
   ]
  },
  {
   "cell_type": "markdown",
   "id": "4eccebba",
   "metadata": {},
   "source": [
    "The Algorithm below describes the process."
   ]
  },
  {
   "cell_type": "code",
   "execution_count": 50,
   "id": "c9ff4190",
   "metadata": {},
   "outputs": [
    {
     "name": "stdout",
     "output_type": "stream",
     "text": [
      "Spread Sheet Created!\n",
      "Randomizing Problems!\n",
      "\n",
      "Attempting problems in chapter_1\n",
      "Solved a problem!\n",
      "Solved a problem!\n",
      "Solved a problem!\n",
      "Reading Chapter chapter_1 ...\n",
      "\n",
      "Attempting problems in chapter_2\n",
      "Solved a problem!\n",
      "Can't solve atm!\n",
      "Can't solve atm!\n",
      "Reading Chapter chapter_2 ...\n",
      "Trying previous problems from chapter_1\n",
      "\n",
      "Attempting problems in chapter_3\n",
      "Solved a problem!\n",
      "Can't solve atm!\n",
      "Can't solve atm!\n",
      "Reading Chapter chapter_3 ...\n",
      "Trying previous problems from chapter_2\n",
      "Solved a problem!\n",
      "Solved a problem!\n",
      "\n"
     ]
    }
   ],
   "source": [
    "import random\n",
    "\n",
    "exercises = { \n",
    "    \"chapter_1\": [\n",
    "        {\n",
    "            \"index\": 1,\n",
    "            \"solved\": False,        \n",
    "        }, \n",
    "        { \n",
    "            \"index\": 2,\n",
    "            \"solved\": False\n",
    "        },\n",
    "        {\n",
    "            \"index\": 3,\n",
    "            \"solved\": False\n",
    "        }\n",
    "    ],\n",
    "    \"chapter_2\": [\n",
    "        {\n",
    "            \"index\": 1,\n",
    "            \"solved\": False,        \n",
    "        }, \n",
    "        { \n",
    "            \"index\": 2,\n",
    "            \"solved\": False\n",
    "        },\n",
    "        {\n",
    "            \"index\": 3,\n",
    "            \"solved\": False\n",
    "        }\n",
    "    ],\n",
    "    \"chapter_3\": [\n",
    "        {\n",
    "            \"index\": 1,\n",
    "            \"solved\": False,        \n",
    "        }, \n",
    "        { \n",
    "            \"index\": 2,\n",
    "            \"solved\": False\n",
    "        },\n",
    "        {\n",
    "            \"index\": 3,\n",
    "            \"solved\": False\n",
    "        }\n",
    "    ]\n",
    "    \n",
    "}\n",
    "\n",
    "def createSpreadSheet():\n",
    "    print(\"Spread Sheet Created!\")\n",
    "    \n",
    "def randomizeSheet():\n",
    "    print(\"Randomizing Problems!\")\n",
    "    print('')\n",
    "    for chapter in exercises:\n",
    "        random.shuffle(exercises[chapter])\n",
    "        \n",
    "def doProblems(chapter, prev = False):\n",
    "    for problem in exercises[chapter]:\n",
    "        if(problem['solved'] == False):\n",
    "            canDoIt = 0\n",
    "            if (prev == True):\n",
    "                canDoIt = 1\n",
    "            else:\n",
    "                canDoIt = random.randint(0,1)\n",
    "            if (canDoIt == 1):\n",
    "                problem['solved'] = True\n",
    "                print('Solved a problem!')\n",
    "            else:\n",
    "                print('Can\\'t solve atm!')\n",
    "def read(chapter):\n",
    "    print('Reading Chapter', chapter, '...')\n",
    "        \n",
    "createSpreadSheet()\n",
    "randomizeSheet()\n",
    "\n",
    "prev_chapter = ''\n",
    "for chapter in exercises:\n",
    "    print('Attempting problems in', chapter)\n",
    "    doProblems(chapter)\n",
    "    read(chapter)\n",
    "    if (prev_chapter != ''):\n",
    "        print('Trying previous problems from', prev_chapter)\n",
    "        doProblems(prev_chapter, True)\n",
    "    prev_chapter = chapter\n",
    "    print('')\n",
    "\n"
   ]
  },
  {
   "cell_type": "markdown",
   "id": "8b4e1c47",
   "metadata": {},
   "source": [
    "# Math Reading Strategy\n",
    "## A Strategy for reading and learn Mathematics from Books and other sources\n",
    "\n",
    "The purpose of this strategy is to learn Mathematics in a iterative process to memorize and effectivize \n",
    "the learning as much as possible. The purpose of this strategy is not that the learning process \n",
    "should be any slower than reading the book in one turn, quite the opposite, it's purpose is to make it much easier \n",
    "to understand the material, through repetitive exposure. \n",
    "\n",
    "As a past musician, this method is inspired from an effective method to memorize long and complex pieces of music. \n",
    "In summary the logic behind that process is that you should learn a piece and in a short amount of time and forget it knowingly.\n",
    "The idea is that when you re-learn the piece, it will take even longer to forget it once again, and after around 3-4 iterations,\n",
    "most of the piece will stick for a very long time, or at least a much longer time than initially.\n",
    "\n",
    "In Mathematics there is so much to learn and I found after studying pretty intensively\n",
    "that it's too easy to forget important aspects, especially when studying in a quick tempo.\n",
    "Therefore this is a strategy I've created with the inspiration from other sources on the web, \n",
    "as a trial to help my study, based on the hypothesis of iterative memorization. \n"
   ]
  },
  {
   "cell_type": "markdown",
   "id": "35f346c0",
   "metadata": {},
   "source": [
    "### 1. Overview\n",
    "\n",
    "Start reading/watching the \"easy-to-understand\" overviews of the subject from different sources, presumably from Wikipedia, Mathisfun, Khan Academy, YouTube or other good sources where you can find comprehensible information for a first read. Here you don't have to understand any details, just what the subject is about and some keywords and important areas in the branch. Also, if there is an application area, see if you can find a short summary regarding that. \n"
   ]
  },
  {
   "cell_type": "markdown",
   "id": "cc10a825",
   "metadata": {},
   "source": [
    "### 2. Investigate\n",
    "\n",
    "The second step is an extension of the previous one where you will start brush off some basic concepts on the surface, through exposing yourself to as much material of the subject as possible. \n",
    "Pick a good book on the target subject and read it through in a fast pace tempo. A goal to have is to read the book in 2 times the number of pages in minutes, which by the way is extremly fast for a books of Mathematics.\n"
   ]
  },
  {
   "cell_type": "code",
   "execution_count": 1,
   "id": "c2633902",
   "metadata": {},
   "outputs": [
    {
     "name": "stdout",
     "output_type": "stream",
     "text": [
      "How many pages? \n"
     ]
    },
    {
     "ename": "ValueError",
     "evalue": "invalid literal for int() with base 10: ''",
     "output_type": "error",
     "traceback": [
      "\u001b[0;31m---------------------------------------------------------------------------\u001b[0m",
      "\u001b[0;31mValueError\u001b[0m                                Traceback (most recent call last)",
      "Input \u001b[0;32mIn [1]\u001b[0m, in \u001b[0;36m<cell line: 1>\u001b[0;34m()\u001b[0m\n\u001b[0;32m----> 1\u001b[0m x \u001b[38;5;241m=\u001b[39m \u001b[38;5;28;43mint\u001b[39;49m\u001b[43m(\u001b[49m\u001b[38;5;28;43minput\u001b[39;49m\u001b[43m(\u001b[49m\u001b[38;5;124;43m\"\u001b[39;49m\u001b[38;5;124;43mHow many pages? \u001b[39;49m\u001b[38;5;124;43m\"\u001b[39;49m\u001b[43m)\u001b[49m\u001b[43m)\u001b[49m\n\u001b[1;32m      2\u001b[0m \u001b[38;5;28mprint\u001b[39m(\u001b[38;5;124mf\u001b[39m\u001b[38;5;124m'\u001b[39m\u001b[38;5;132;01m{\u001b[39;00mx\u001b[38;5;241m*\u001b[39m\u001b[38;5;241m2\u001b[39m\u001b[38;5;132;01m}\u001b[39;00m\u001b[38;5;124m minutes, or \u001b[39m\u001b[38;5;132;01m{\u001b[39;00mx \u001b[38;5;241m/\u001b[39m \u001b[38;5;241m60\u001b[39m\u001b[38;5;132;01m}\u001b[39;00m\u001b[38;5;124m hours\u001b[39m\u001b[38;5;124m'\u001b[39m)\n",
      "\u001b[0;31mValueError\u001b[0m: invalid literal for int() with base 10: ''"
     ]
    }
   ],
   "source": [
    "x = int(input(\"How many pages? \"))\n",
    "print(f'{x*2} minutes, or {x / 60} hours')"
   ]
  },
  {
   "cell_type": "markdown",
   "id": "8a2a39b9",
   "metadata": {},
   "source": [
    "The reason for this is that you will forget and not understand most of the stuff, but you will still be exposed to it. If you are like me, the hardest part with this is to not get hanged up on details. The mindset you need to have here is that it's perfectly OK to not understand what's going on. This process should not take more than a week in a normal sized book, most of the times, 2-3 days in study time. While in this process, make sure to watch some shorter videos of the subject and don't care to much about how computations work, have more of a investigative mindset, \n",
    "**what is this subject about and how is it useful?** \n",
    "\n",
    "*Make sure to read through some exercises just to get an idea what's asked for in every chapter.*"
   ]
  },
  {
   "cell_type": "markdown",
   "id": "6e323bd7",
   "metadata": {},
   "source": [
    "### 3. Apply\n",
    "Go back to the beginning of the book and start reading in a slower tempo than before, preferably with a pen & paper. Read through the stuff so you understand it a bit more deeply, re-read things you don't understand but don't get stuck too long on every page. Try out some computations here and there and try to understand the reasoning. Read through the proofs but if you don't understand them fully, skip that for now and most importantly **don't get stuck**. \n",
    "\n",
    "A good idea here is to start writing down all the interesting ideas you come across and important keywords in a document. In this document you can also try to write a summary of every idea that you feel are important and good to have for analysing later. \n",
    "\n",
    "Do a minimum of 10 exercises per chapter and if the book contains way too many, pick some that you feel might be important from every area in the chapter. Solve and repeat for every chapter. **The most important thing about this step is to learn how to apply the ideas in problem solving, not to understand the subject on a more deeper level.**\n",
    "\n",
    "Here it's a good place to start writing down the summaries of the topics in a document where you can continue filling in more stuff in the next step. "
   ]
  },
  {
   "cell_type": "markdown",
   "id": "68bd27fd",
   "metadata": {},
   "source": [
    "### 4. Analyze\n",
    "The last and final step, check through the book one last time, but this time from a more analytical point of view. Here it's important to focus on the aspects that you didn't get the second time and to repeat some of the important keywords and areas. This is a good time to do at least 10 more exercises per chapter and try the harder ones that might involve proving things. Re-read the proofs and try understand it on a deeper level. It's perfectly reasonable you spend a long time per page, especially if that page contains important information.\n",
    "\n",
    "Throughout this step, ask yourself any question you can think of, be critical and creative. It's a good idea to be on this step at least some time before an exam to be able to do the more harder questions as they often involve more reasoning and a deeper understanding on the subject. "
   ]
  }
 ],
 "metadata": {
  "kernelspec": {
   "display_name": "Python 3 (ipykernel)",
   "language": "python",
   "name": "python3"
  },
  "language_info": {
   "codemirror_mode": {
    "name": "ipython",
    "version": 3
   },
   "file_extension": ".py",
   "mimetype": "text/x-python",
   "name": "python",
   "nbconvert_exporter": "python",
   "pygments_lexer": "ipython3",
   "version": "3.10.8"
  }
 },
 "nbformat": 4,
 "nbformat_minor": 5
}
