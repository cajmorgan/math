{
 "cells": [
  {
   "cell_type": "markdown",
   "id": "cbb15f49",
   "metadata": {},
   "source": [
    "# Include your proof from Reddit"
   ]
  },
  {
   "cell_type": "code",
   "execution_count": null,
   "id": "bb519ec5",
   "metadata": {},
   "outputs": [],
   "source": []
  },
  {
   "cell_type": "markdown",
   "id": "a6273e7d",
   "metadata": {},
   "source": [
    "### Polynomial Division - Long Division \n",
    "Long division is generally the standard division algorithm, especially when done by humans. It's effective and easy to remember. It works by dividing an approximation of the divisor and dividened at every round, preferably but not necessarily the whole dividend (to get the min. number of rounds), adding the result to a list, subtracting the approximated quotient from the remainder and continue until the remainder is zero. \n",
    "\n",
    "Important thing to consider is that the approximated dividend needs to have specific properties to work. What I've found so far without any rigor proof is the following conditions:\n",
    "\n",
    "$d_a$ is the approximated dividend\n",
    "\n",
    "$d_s = d - d_a$\n",
    "\n",
    "if the division ever leads to a repeating reminder, it won't converge\n",
    "\n",
    "else if $d_s > d_a, q \\to \\infty$\n",
    "\n",
    "\n",
    "If it doesn't follow the above conditions, the remainder will become $\\pm\\infty$ or not converge at all. **Is there a more exact condition?**\n",
    "\n",
    "\n",
    "#### The Algorithm\n",
    "...\n"
   ]
  },
  {
   "cell_type": "code",
   "execution_count": 166,
   "id": "f2ae35ab",
   "metadata": {
    "scrolled": false
   },
   "outputs": [
    {
     "name": "stdout",
     "output_type": "stream",
     "text": [
      "1.3157894736842106\n",
      "0\n"
     ]
    }
   ],
   "source": [
    "#Long divison algorithm, none divergence\n",
    "\n",
    "import math\n",
    "a = 25\n",
    "b = [12, 7]\n",
    "\n",
    "d_a = b[0]\n",
    "d = math.fsum(b)\n",
    "\n",
    "\n",
    "real = a / d\n",
    "\n",
    "sum_arr = []\n",
    "remainder = a\n",
    "tot_sum = 0\n",
    "\n",
    "iterations = 0\n",
    "\n",
    "while ((remainder != 0) and iterations < 1000):\n",
    "    if (b[0] > abs(remainder)):\n",
    "        q = remainder / b[0]\n",
    "    else:\n",
    "        q = remainder // b[0]\n",
    "        \n",
    "    sum_arr.append(q)\n",
    "    remainder = remainder - (q * sum(b))\n",
    "    tot_sum = sum(sum_arr)\n",
    "    \n",
    "    \n",
    "    iterations += 1\n",
    "\n",
    "print(real)\n",
    "print(tot_sum)\n",
    "\n",
    "\n",
    "\n",
    "    "
   ]
  },
  {
   "cell_type": "code",
   "execution_count": null,
   "id": "e093678e",
   "metadata": {},
   "outputs": [],
   "source": []
  }
 ],
 "metadata": {
  "kernelspec": {
   "display_name": "Python 3 (ipykernel)",
   "language": "python",
   "name": "python3"
  },
  "language_info": {
   "codemirror_mode": {
    "name": "ipython",
    "version": 3
   },
   "file_extension": ".py",
   "mimetype": "text/x-python",
   "name": "python",
   "nbconvert_exporter": "python",
   "pygments_lexer": "ipython3",
   "version": "3.9.12"
  }
 },
 "nbformat": 4,
 "nbformat_minor": 5
}
