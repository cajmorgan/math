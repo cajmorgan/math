{
 "cells": [
  {
   "cell_type": "markdown",
   "id": "41d88ea0",
   "metadata": {},
   "source": [
    "# Newton's Method\n",
    "\n",
    "## This algorithm is part of square approximation using derivatives.  The main question, when is $f(x) = 0$? \n",
    "\n",
    "$a = x^2$ \n",
    "\n",
    "$0 = x^2 - a$  \n",
    "\n",
    "$f(x) = x^2 - a$\n",
    "\n",
    "$f'(x) = \\frac{f(x) - 0}{x - x_1}$\n",
    "\n",
    "$ x -x_1 = \\frac{f(x)}{f'(x)}$\n",
    "\n",
    "$ -x_1 = - x \\frac{f(x)}{f'(x)}$\n",
    "\n",
    "$ x_1 = x - \\frac{f(x)}{f'(x)}$\n",
    "\n",
    "\n",
    "0 is where the approximated tangent lands, therefore f(x) - 0, and it lands on $x_1$ which should be closer to where the actual curve intersects the x-axis. For every $x_1$ we repeat the same thing with the new approximation and this will eventually lead to where the function intersects.\n",
    "\n",
    "# The reason why this work is simple, the tangent wiggle forward and back and if the target is where the tangent is 0, the zero will get closer and closer to the real 0 of the function!\n",
    "\n",
    "### Intuitive explaination, the tangent touching zero on the number line will always be closer to where f(x) = 0.\n",
    "\n",
    "#### Explain this with pictures https://www.desmos.com/calculator/4njb7ipwqr\n"
   ]
  },
  {
   "cell_type": "code",
   "execution_count": null,
   "id": "e732d1fa",
   "metadata": {},
   "outputs": [],
   "source": []
  }
 ],
 "metadata": {
  "kernelspec": {
   "display_name": "Python 3 (ipykernel)",
   "language": "python",
   "name": "python3"
  },
  "language_info": {
   "codemirror_mode": {
    "name": "ipython",
    "version": 3
   },
   "file_extension": ".py",
   "mimetype": "text/x-python",
   "name": "python",
   "nbconvert_exporter": "python",
   "pygments_lexer": "ipython3",
   "version": "3.10.8"
  }
 },
 "nbformat": 4,
 "nbformat_minor": 5
}
