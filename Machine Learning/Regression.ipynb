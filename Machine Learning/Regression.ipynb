{
 "cells": [
  {
   "cell_type": "markdown",
   "id": "8e4c7cfa",
   "metadata": {},
   "source": [
    "# Regression\n",
    "## General\n",
    "Regression is a type of supervised Machine Learning algorithms that has a continous output. There are different kind of regression algorithms such as **Linear Regression**, **Ridge Regression**, **Decision Trees**, **Support Vector Regression** and many more. Some of those can be used in a similar fashion for classification as well with some differences in the process. "
   ]
  },
  {
   "cell_type": "markdown",
   "id": "1e0d7fc0",
   "metadata": {},
   "source": [
    "## Algorithms\n",
    "A collection of regression algorithms and how they can be implemented with Python and relevant libraries."
   ]
  },
  {
   "cell_type": "markdown",
   "id": "ed227e51",
   "metadata": {},
   "source": [
    "### Linear Regression\n",
    "Linear regression is probably the most common Regression algorithm, for its simplicity and for being one of the first algorithms introduced to ML-learners. \n",
    "\n",
    "On the most basic level, you Linear Regression to find a function as a first degree polynomial with the notation: $h_\\theta(x) = \\theta_1x + \\theta_0$ where $\\theta$ is the parameters that will be set by a process called \"Gradient Descent\". The data that the algorithm uses is exactly for this, to find the values of $\\theta$ that fits the observations as close as possible.\n",
    "\n",
    "It does this through a so called \"Cost Function\", *which has it's own page in the directory* and the goal here is to minimise the Cost Function using \"Gradient Descent\". The cost function for Linear Regression is usually defined as: \n",
    "\n",
    "### $ E(\\theta) = \\frac{1}{n}\\times\\displaystyle\\sum_{i=1} ^n [h_\\theta(x_i) - y_i]^2$\n",
    "\n",
    "Which calculates the Euclidean distance between every observation, the predicted output $h_\\theta(x_i)$ & the true output $y_i$ and sums it and takes the mean, where the higher distance signifies a higher cost/error. The distance between every datapoint, is what we want to minimise as much as possible simultaneously. Of course there are never one perfect line, but the algorithm will find the one closest to perfect.   \n",
    "\n",
    "A good beginner problem for Linear Regression is predicting house prices and that's what's gonna be showcased below."
   ]
  },
  {
   "cell_type": "code",
   "execution_count": 1,
   "id": "7b9fd1cf",
   "metadata": {},
   "outputs": [
    {
     "name": "stdout",
     "output_type": "stream",
     "text": [
      "0.8599339651245674\n",
      "0.8253948072168067\n",
      "The house will cost: 334766.0 $\n"
     ]
    },
    {
     "data": {
      "text/plain": [
       "<matplotlib.collections.PathCollection at 0x168a0d240>"
      ]
     },
     "execution_count": 1,
     "metadata": {},
     "output_type": "execute_result"
    },
    {
     "data": {
      "image/png": "[encoded data removed]",
      "text/plain": [
       "<Figure size 640x480 with 1 Axes>"
      ]
     },
     "metadata": {},
     "output_type": "display_data"
    }
   ],
   "source": [
    "import pandas as pd\n",
    "import matplotlib.pylab as plt\n",
    "from sklearn.linear_model import LinearRegression\n",
    "from sklearn.preprocessing import MinMaxScaler\n",
    "from sklearn.model_selection import train_test_split\n",
    "from sklearn.metrics import mean_absolute_percentage_error\n",
    "from sklearn.decomposition import PCA\n",
    "\n",
    "#(47, 3), 47 observations with 2 features (size, rooms) and 1 output (price).\n",
    "df = pd.read_csv(\"datasets/housing-dataset.csv\") \n",
    "\n",
    "#Extracting the independent and dependent variables\n",
    "X = df[[\"size\", \"rooms\"]].values\n",
    "y = df[\"price\"].values\n",
    "\n",
    "#As there is a very large difference between the independent features, we need to scale them.\n",
    "#There is a page available to understand this process in the directory.\n",
    "scaler = MinMaxScaler()\n",
    "scaler.fit(X)\n",
    "X_scaled = scaler.transform(X)\n",
    "\n",
    "#Split the train data and test data so we can test the accuracy later\n",
    "X_train, X_test, y_train, y_test = train_test_split(X_scaled, y, test_size=0.2, random_state=42)\n",
    "\n",
    "#Train the model, this will find the theta parameters for the h(x) line\n",
    "model = LinearRegression()\n",
    "model.fit(X_train, y_train)\n",
    "\n",
    "#Predict using the train & test data, this is only for demonstration purpose, \n",
    "#obviously you don't use the train data for prediction in a real scenario as that would be pretty useless.\n",
    "prediction_training = model.predict(X_train)\n",
    "prediction_test = model.predict(X_test)\n",
    "\n",
    "#Accuracy score, for both predictions and as expected, the training prediction is higher than the test. \n",
    "accuracy_training = 1 - mean_absolute_percentage_error(y_train, prediction_training)\n",
    "accuracy_test = 1 - mean_absolute_percentage_error(y_test, prediction_test)\n",
    "print(accuracy_training) #86%\n",
    "print(accuracy_test) #82.5%\n",
    "\n",
    "\n",
    "#For a general prediction, let's see what a house with 4 rooms and 2123 square feets should cost...\n",
    "X_example = scaler.transform([[2123, 4]])\n",
    "print(\"The house will cost:\", model.predict(X_example)[0]//1, '$')\n",
    "\n",
    "\n",
    "#Lets plot the result, in this case, I want to plot this in 2d, \n",
    "# XY but we have 3 variables in total, so we need to use \n",
    "# something called PCA which is a dimension reducing technique\n",
    "\n",
    "pca = PCA(n_components=1)\n",
    "pca.fit(X_train)\n",
    "X_train_reduced = pca.transform(X_train)\n",
    "X_test_reduced = pca.transform(X_test)\n",
    "\n",
    "plt.scatter(X_train_reduced, y_train) #Train\n",
    "plt.scatter(X_test_reduced, prediction_test) #Predictions\n",
    "\n"
   ]
  },
  {
   "cell_type": "code",
   "execution_count": null,
   "id": "c9290f71",
   "metadata": {},
   "outputs": [],
   "source": []
  }
 ],
 "metadata": {
  "kernelspec": {
   "display_name": "Python 3 (ipykernel)",
   "language": "python",
   "name": "python3"
  },
  "language_info": {
   "codemirror_mode": {
    "name": "ipython",
    "version": 3
   },
   "file_extension": ".py",
   "mimetype": "text/x-python",
   "name": "python",
   "nbconvert_exporter": "python",
   "pygments_lexer": "ipython3",
   "version": "3.10.8"
  }
 },
 "nbformat": 4,
 "nbformat_minor": 5
}
