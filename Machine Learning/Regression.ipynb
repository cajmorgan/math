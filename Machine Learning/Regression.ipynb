{
 "cells": [
  {
   "cell_type": "markdown",
   "id": "8e4c7cfa",
   "metadata": {},
   "source": [
    "# Regression\n",
    "## General\n",
    "Regression is a type of supervised Machine Learning algorithms that has a continous output. There are different kind of regression algorithms such as "
   ]
  },
  {
   "cell_type": "markdown",
   "id": "1e0d7fc0",
   "metadata": {},
   "source": [
    "## Algorithms\n",
    "A collection of regression algorithms and how they can be implemented"
   ]
  },
  {
   "cell_type": "markdown",
   "id": "ed227e51",
   "metadata": {},
   "source": [
    "### Linear Regression"
   ]
  }
 ],
 "metadata": {
  "kernelspec": {
   "display_name": "Python 3 (ipykernel)",
   "language": "python",
   "name": "python3"
  },
  "language_info": {
   "codemirror_mode": {
    "name": "ipython",
    "version": 3
   },
   "file_extension": ".py",
   "mimetype": "text/x-python",
   "name": "python",
   "nbconvert_exporter": "python",
   "pygments_lexer": "ipython3",
   "version": "3.10.8"
  }
 },
 "nbformat": 4,
 "nbformat_minor": 5
}
