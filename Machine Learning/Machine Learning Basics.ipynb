{
 "cells": [
  {
   "cell_type": "markdown",
   "id": "cf56bcb5",
   "metadata": {},
   "source": [
    "# Machine Learning Basics\n",
    "\n",
    "## What's \"Machine Learning\" & why do we care?\n",
    "\n",
    "Machine learning a sub-field of the larger field \"Artificial Intelligence\"."
   ]
  },
  {
   "cell_type": "code",
   "execution_count": null,
   "id": "3f6d9cb0",
   "metadata": {},
   "outputs": [],
   "source": []
  },
  {
   "cell_type": "code",
   "execution_count": null,
   "id": "5ddf1220",
   "metadata": {},
   "outputs": [],
   "source": []
  }
 ],
 "metadata": {
  "kernelspec": {
   "display_name": "Python 3 (ipykernel)",
   "language": "python",
   "name": "python3"
  },
  "language_info": {
   "codemirror_mode": {
    "name": "ipython",
    "version": 3
   },
   "file_extension": ".py",
   "mimetype": "text/x-python",
   "name": "python",
   "nbconvert_exporter": "python",
   "pygments_lexer": "ipython3",
   "version": "3.10.6"
  }
 },
 "nbformat": 4,
 "nbformat_minor": 5
}
