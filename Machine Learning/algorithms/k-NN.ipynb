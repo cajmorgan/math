{
 "cells": [
  {
   "cell_type": "code",
   "execution_count": 6,
   "id": "9635e65d",
   "metadata": {},
   "outputs": [],
   "source": [
    "import pandas as pd\n",
    "import numpy as np\n",
    "from statistics import mode \n",
    "\n",
    "df = pd.read_csv('../datasets/iris_train.csv')\n",
    "df_test = pd.read_csv('../datasets/iris_test.csv')\n",
    "targets = np.array(['Iris-virginica', 'Iris-setosa', 'Iris-versicolor'])\n",
    "\n",
    "for i in range (len(targets)):\n",
    "    df.loc[df['class'] == targets[i], 'class'] = i\n",
    "    df_test.loc[df_test['class'] == targets[i], 'class'] = i\n",
    "\n",
    "data = df.values[:,:4]\n",
    "y = df.values[:,4]\n",
    "point = df_test.values[10, :4]\n",
    "data_test = df_test.values[:, :4]\n",
    "y_test = df_test.values[:, 4]\n"
   ]
  },
  {
   "cell_type": "markdown",
   "id": "fe99013a",
   "metadata": {},
   "source": [
    "## KNN - Law of Cosine solution *Efficient*\n",
    "### Getting the difference length of every vector in both matrices can be obtained through Law of Cosine\n",
    "\n",
    "### $||X - V||^2 = X^2 + V^2 - 2||X||\\,||V||cos(\\theta) = $\n",
    "\n",
    "### $||X - V||^2 = X^2 + V^2 - 2 X^T \\cdot V$\n",
    "\n",
    "$X - V$ for every pair of vector is the third side opposite of the $cos(\\theta)$ angle in a triangle, which is the difference between the vectors and the value we want. \n"
   ]
  },
  {
   "cell_type": "code",
   "execution_count": 7,
   "id": "ba963a50",
   "metadata": {},
   "outputs": [
    {
     "data": {
      "text/plain": [
       "array(['Iris-setosa', 'Iris-setosa', 'Iris-setosa', 'Iris-setosa',\n",
       "       'Iris-setosa', 'Iris-setosa', 'Iris-setosa', 'Iris-setosa',\n",
       "       'Iris-setosa', 'Iris-setosa', 'Iris-setosa', 'Iris-setosa',\n",
       "       'Iris-setosa', 'Iris-setosa', 'Iris-setosa', 'Iris-setosa',\n",
       "       'Iris-versicolor', 'Iris-versicolor', 'Iris-versicolor',\n",
       "       'Iris-versicolor', 'Iris-versicolor', 'Iris-versicolor',\n",
       "       'Iris-versicolor', 'Iris-versicolor', 'Iris-versicolor',\n",
       "       'Iris-versicolor', 'Iris-versicolor', 'Iris-versicolor',\n",
       "       'Iris-versicolor', 'Iris-versicolor', 'Iris-versicolor',\n",
       "       'Iris-versicolor', 'Iris-versicolor', 'Iris-virginica',\n",
       "       'Iris-virginica', 'Iris-virginica', 'Iris-virginica',\n",
       "       'Iris-virginica', 'Iris-virginica', 'Iris-virginica',\n",
       "       'Iris-virginica', 'Iris-virginica', 'Iris-virginica',\n",
       "       'Iris-virginica', 'Iris-virginica', 'Iris-virginica',\n",
       "       'Iris-virginica', 'Iris-virginica', 'Iris-virginica',\n",
       "       'Iris-virginica'], dtype='<U15')"
      ]
     },
     "execution_count": 7,
     "metadata": {},
     "output_type": "execute_result"
    }
   ],
   "source": [
    "def knn_linear_algebra_new(k, X, y, V):\n",
    "    global targets\n",
    "    \n",
    "    X_new = np.sum(X ** 2, axis=1)\n",
    "    V_new = np.reshape(np.sum(V ** 2, axis=1), [V.shape[0], 1])\n",
    "    dot_prod_all = np.transpose(X @ np.transpose(V))\n",
    "    law_of_cos_differences = ((X_new + V_new) -2 * dot_prod_all) ** (1/2)\n",
    "    \n",
    "    sorted_length_indices = np.argsort(law_of_cos_differences)\n",
    "    closest_vectors = sorted_length_indices[:, :k]\n",
    "    majority_lists = y[closest_vectors]\n",
    "    \n",
    "    predictions = list(map(lambda v : mode(v), majority_lists))\n",
    "    \n",
    "    return targets[predictions]\n",
    "    \n",
    "knn_linear_algebra_new(13, data, y, data_test)"
   ]
  },
  {
   "cell_type": "markdown",
   "id": "b238834b",
   "metadata": {},
   "source": [
    "### KNN - Linear Algebra with NumPy *Inefficient*\n",
    "\n",
    "$v$ = target vector\n",
    "\n",
    "$X$ = data points matrix with the vectors as row vectors (not column)\n",
    "\n",
    "$y$ = the predicted labeled output\n",
    "\n",
    "Mathematically this implementation can be represented as:\n",
    "\n",
    "$D = X_m - v^T$ | Difference matrix, subtract vector v from every row (vector) $m \\in X$\n",
    "\n",
    "The squared length will be at every pivot position in the matrix after multiplying accordingly:\n",
    "\n",
    "$P = A^TA$ \n",
    "\n",
    "$l_n \\in P : l_n = \\sqrt{P_{n,n}}$\n",
    "\n",
    "Now we have the length of all vectors $v \\in D$ the rest will be done by using argsort and take the majority vote with np functions. \n",
    "\n",
    "Note that the matrix we get in the function is already transposed so what we are doing in the function below is essentially: $A^{T}(A^T)^{T} = A^{T}A$\n"
   ]
  },
  {
   "cell_type": "code",
   "execution_count": 8,
   "id": "e82530a7",
   "metadata": {},
   "outputs": [
    {
     "data": {
      "text/plain": [
       "'Iris-setosa'"
      ]
     },
     "execution_count": 8,
     "metadata": {},
     "output_type": "execute_result"
    }
   ],
   "source": [
    "def knn_linear_algebra(k, X, y, v):\n",
    "    global targets\n",
    "    \n",
    "    difference_vectors = X - v\n",
    "    \n",
    "    #Length of vectors n will be in (n,n), i.e in the pivots/diagonal\n",
    "    vector_length_matrix = (difference_vectors @ np.transpose(difference_vectors)) ** (1 / 2)\n",
    "    \n",
    "    vector_length_list = np.diagonal(vector_length_matrix)\n",
    "    sorted_length_indices = np.argsort(vector_length_list)\n",
    "    closest_vectors = sorted_length_indices[:k]\n",
    "    \n",
    "    majority_list = y[closest_vectors]\n",
    "    prediction = mode(majority_list)\n",
    "    \n",
    "    return targets[prediction]\n",
    "\n",
    "\n",
    "knn_linear_algebra(13, data, y, point)"
   ]
  },
  {
   "cell_type": "code",
   "execution_count": 9,
   "id": "7ee33236",
   "metadata": {},
   "outputs": [
    {
     "data": {
      "text/plain": [
       "'Iris-setosa'"
      ]
     },
     "execution_count": 9,
     "metadata": {},
     "output_type": "execute_result"
    }
   ],
   "source": [
    "def knn_numpy(k, X, y, v):\n",
    "    global targets\n",
    "    \n",
    "    d_vectors = X - v\n",
    "    vector_length_list = np.sum(d_vectors ** 2, axis= 1) ** (1/2)\n",
    "    \n",
    "    sorted_by_indices = np.argsort(vector_length_list)\n",
    "    closest_vectors_indices = sorted_by_indices[:k]\n",
    "    \n",
    "    majority_list = y[closest_vectors_indices]\n",
    "    prediction = mode(majority_list)\n",
    "    return targets[prediction]\n",
    "\n",
    "knn_numpy(10, data, y, point)"
   ]
  }
 ],
 "metadata": {
  "kernelspec": {
   "display_name": "Python 3 (ipykernel)",
   "language": "python",
   "name": "python3"
  },
  "language_info": {
   "codemirror_mode": {
    "name": "ipython",
    "version": 3
   },
   "file_extension": ".py",
   "mimetype": "text/x-python",
   "name": "python",
   "nbconvert_exporter": "python",
   "pygments_lexer": "ipython3",
   "version": "3.9.12"
  }
 },
 "nbformat": 4,
 "nbformat_minor": 5
}
