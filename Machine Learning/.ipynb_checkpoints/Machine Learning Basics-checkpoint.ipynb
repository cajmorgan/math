{
 "cells": [
  {
   "cell_type": "markdown",
   "id": "cf56bcb5",
   "metadata": {},
   "source": [
    "# Machine Learning Basics\n",
    "\n",
    "## What's \"Machine Learning\" & why do we care?\n",
    "\n",
    "Machine learning a sub-field of the larger field \"Artificial Intelligence\". What is classified as Artificial Intelligence is depends on who you ask, but in general it's when a computer seem \"smart\" or \"intelligent\" in doing a specific task, like being goal-seeking. \n",
    "\n",
    "An old and famous example of this is the unbeatable Tic-Tac-Toe, which often uses a rather basic AI algorithm that tests all possible scenarios by \"playing\" the game to the end in the required amount of possibilities to find the best  next move, hence goal-seeking. There are of course many more examples than this, but this is a pretty standard introduction to AI as a whole field. \n",
    "\n",
    "Machine Learning on the other hand works a bit different then the above algorithm, well, it depends because there might be ML algorithms that work in a similar fashion, but in general, the goal here is to learn based on data and do so called predictions.\n",
    "\n",
    "So what can we predict? A lot of things and this is why ML is so useful and growing, though to fully understand how it works it usually requires a firm background in Mathematics. \n",
    "\n",
    "### Tasks for ML\n",
    "Normal programming is pretty static, you can basically break it down to two important features, conditions and loops. Imagine with those tools creating a program that discovers if an audio recording contains a specific word...\n",
    "\n",
    "Pretty much any program that wants to replicate human senses like vision och hearing needs some kind of ML algorithm somewhere in the process (& of course much more). \n",
    "\n",
    "## Types of Algorithms\n",
    "Machine Learning algorithms are usually classified in different types of learning depending on what kind of data you have and as well the goal of the prediction. The first branches are basically **Supervised** and **Unsupervised** with something in-between called **Semi-Supervised** which usually is a combination of the two.\n",
    "\n",
    "\n",
    "### Supervised \n",
    "Most common supervised algorithms are called **Regression** and **Classification** and differ mostly by their goal and what type of data you want to do prediction with. Supervised algorithms need data that is labeled, which means that the data need to have an output, y-value and while that's good, it's generelly harder to obtain a lot of labeled data than not. \n",
    "\n",
    "#### Regression\n",
    "Regression is the logical choice when you want an output that is *continues*, basically an output that can be any number based on the data. Usual applications could be:\n",
    "- Stock Market Predictions\n",
    "- Real Estate Predictions\n",
    "- Weather Prediction\n",
    "\n",
    "#### Classification\n",
    "Classification is what you choose when you want a discrete output, for example, Yes or No and 1 or 0 etc.\n",
    "This is generelly very handy and have many different application areas:\n",
    "- Healthy/not-Healthy in medical patients\n",
    "- Cat or Dog in an image\n",
    "- A specific word in an audio clip\n",
    "\n",
    "Note that classification doesn't need to be binary, the output can be a lot of different classes.\n",
    "\n",
    "### Unsupervised\n",
    "These algorithms do not need labeled data and therefore called unsupervised, and goes under two umbrellas **Clustering** and **Anomaly Detection**. Unsupervised algorithms are generelly made to find patterns in data and then the data scientist might decide how to \"classify\" those patterns afterwards, which is a bit of a different process compared to supervised algorithms. \n",
    "\n",
    "#### Clustering\n",
    "You use data to train a model to find \"Clusters\" in the data, data that is similar enough to be groupable by some extent. There are tons of different methods for this but this is what most of the clustering algorithms generelly do. This can be very helpful in certain scenarios, especially when it's an impossibility to obtain data that is labeled or when you want to have a more unbiased results, as labeled data is always biased by the one that classified the data. Examples of usage are:\n",
    "- Grouping related topics, f.e articles.\n",
    "- Medical Analysis of different individuals\n",
    "- Semi-Supervision with finding labeled datas classes. \n",
    "\n",
    "\n",
    "#### Anomaly Detection\n",
    "Anomaly Detection can both be unsupervised and supervised, but generally is unsupervised. There are different methods here but the general goal is to find data that's not similar to the majority, anomalies. This can be used in many applications such as:\n",
    "- Discovering fraudent bank transactions\n",
    "- Suspicious network activity\n",
    "\n",
    "\n",
    "\n",
    "### For more information, check the specific files for every topic"
   ]
  },
  {
   "cell_type": "code",
   "execution_count": null,
   "id": "03455e4e",
   "metadata": {},
   "outputs": [],
   "source": []
  }
 ],
 "metadata": {
  "kernelspec": {
   "display_name": "Python 3 (ipykernel)",
   "language": "python",
   "name": "python3"
  },
  "language_info": {
   "codemirror_mode": {
    "name": "ipython",
    "version": 3
   },
   "file_extension": ".py",
   "mimetype": "text/x-python",
   "name": "python",
   "nbconvert_exporter": "python",
   "pygments_lexer": "ipython3",
   "version": "3.10.8"
  }
 },
 "nbformat": 4,
 "nbformat_minor": 5
}
