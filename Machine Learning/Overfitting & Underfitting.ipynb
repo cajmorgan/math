{
 "cells": [
  {
   "cell_type": "markdown",
   "id": "2c13e5b8",
   "metadata": {},
   "source": [
    "# Overfitting & Underfitting\n",
    "## The balance of the force\n",
    "\n",
    "When is the model good enough? It's when the training error combined with the test error is as low as possible. \n",
    "\n",
    "### Model Complexity\n",
    "In general, a more complex model requires a larger dataset, i.e it's much easier to overfit a model that makes very complex assumptions regarding a dataset and fits it too *perfect*. If it pick a linear model as an example, it might underfit on a very large and complex dataset, but might overfit on a very small dataset, because it might fit that particular data perfectly, it doesn't mean that the future predictions will be close to reality. \n",
    "\n",
    "### Overfitting\n",
    "Overfitting might seem good at first look, because it might fit the data perfectly and have a very **low** training error, but it will probably have a high test error which is the first indication of overfitting. **Low training error plus high test error equals overfitting.** \n",
    "\n",
    "Overfitting can happen by a too complex model which can be made by too many features on a small dataset. There are different ways to prevent this, but some suggests to have a minimum of 10 observations per 1 feature. \n",
    "\n",
    "**Overfitting might be too specific**. \n",
    "\n",
    "### Underfitting\n",
    "Underfitting on the other hand suggests that the model might be too simple to the choosen dataset, i.e it will make strong assumptions. **High training error plus high test error equals underfitting**. Note that the training error *usually* will be lower than the test error regardless of overfitting or underfitting. \n",
    "\n",
    "An example would be a linear regression problem where you have data points increasing a lot by let's say the 100 first 100 obeservations and then staggers, you might think imagine it as $f(x) = log(x)$ or something similar. If we apply a simple linear model here, the model might be increasing in a much faster rate after a while than the actual observations, which will lead to underfitting.\n",
    "\n",
    "On the other hand, if you make the model more complex, so it can have higher degrees, (f.e $x^2$) than the model might generalize better.  \n",
    "\n",
    "**Underfitting might be too non-specific**. "
   ]
  },
  {
   "cell_type": "code",
   "execution_count": null,
   "id": "7dba7a01",
   "metadata": {},
   "outputs": [],
   "source": []
  }
 ],
 "metadata": {
  "kernelspec": {
   "display_name": "Python 3 (ipykernel)",
   "language": "python",
   "name": "python3"
  },
  "language_info": {
   "codemirror_mode": {
    "name": "ipython",
    "version": 3
   },
   "file_extension": ".py",
   "mimetype": "text/x-python",
   "name": "python",
   "nbconvert_exporter": "python",
   "pygments_lexer": "ipython3",
   "version": "3.10.8"
  }
 },
 "nbformat": 4,
 "nbformat_minor": 5
}
