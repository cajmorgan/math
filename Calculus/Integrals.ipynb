{
 "cells": [
  {
   "cell_type": "markdown",
   "id": "6d432953",
   "metadata": {},
   "source": [
    "# Integrals\n",
    "## The area of what?\n",
    "\n"
   ]
  },
  {
   "cell_type": "markdown",
   "id": "eb3782a7",
   "metadata": {},
   "source": [
    "## Riemann sums & Toilet Paper Exercise"
   ]
  },
  {
   "cell_type": "markdown",
   "id": "f9beb1be",
   "metadata": {},
   "source": [
    "### Rules of integrals\n",
    "Usually we take out the integrals by reversing the steps of derivatives, which usually isn't much harder but requires a \"reverse thinking\" - process. This is usually pretty straightforward, when it isn't, as it might in some circumstances be harder to take the integral of something that's very easy to take the derivative of, for many reasons. \n",
    "\n",
    "\n",
    "\n",
    "\n",
    "#### Example integration of $sin^2(x)$\n",
    "\n",
    "\n"
   ]
  },
  {
   "cell_type": "code",
   "execution_count": null,
   "id": "de6c894c",
   "metadata": {},
   "outputs": [],
   "source": []
  }
 ],
 "metadata": {
  "kernelspec": {
   "display_name": "Python 3 (ipykernel)",
   "language": "python",
   "name": "python3"
  },
  "language_info": {
   "codemirror_mode": {
    "name": "ipython",
    "version": 3
   },
   "file_extension": ".py",
   "mimetype": "text/x-python",
   "name": "python",
   "nbconvert_exporter": "python",
   "pygments_lexer": "ipython3",
   "version": "3.9.12"
  }
 },
 "nbformat": 4,
 "nbformat_minor": 5
}
