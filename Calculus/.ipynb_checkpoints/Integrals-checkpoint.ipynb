{
 "cells": [
  {
   "cell_type": "markdown",
   "id": "eb3782a7",
   "metadata": {},
   "source": [
    "## Riemann sums & Toilet Paper Exercise"
   ]
  },
  {
   "cell_type": "code",
   "execution_count": null,
   "id": "04bb4693",
   "metadata": {},
   "outputs": [],
   "source": []
  }
 ],
 "metadata": {
  "kernelspec": {
   "display_name": "Python 3 (ipykernel)",
   "language": "python",
   "name": "python3"
  },
  "language_info": {
   "codemirror_mode": {
    "name": "ipython",
    "version": 3
   },
   "file_extension": ".py",
   "mimetype": "text/x-python",
   "name": "python",
   "nbconvert_exporter": "python",
   "pygments_lexer": "ipython3",
   "version": "3.10.8"
  }
 },
 "nbformat": 4,
 "nbformat_minor": 5
}
