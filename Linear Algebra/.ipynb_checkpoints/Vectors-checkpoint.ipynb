{
 "cells": [
  {
   "cell_type": "markdown",
   "id": "4dda1433",
   "metadata": {},
   "source": [
    "# Vectors\n",
    "\n",
    "## General\n",
    "Vectors are the basis of Linear Algebra and can be viewed in many different ways, but are usually drawn as arrows.\n",
    "A vector resides in n dimensions and that is dictated by how many rows that vector contains. Every vector is always multiplied by a single value called a *scalar* and is shown in the example below as $c$.\n",
    "\n",
    "$\n",
    "c\\times\\begin{bmatrix}\n",
    "           x_{1} \\\\\n",
    "           x_{2} \\\\\n",
    "           \\vdots \\\\\n",
    "           x_{n}\n",
    "         \\end{bmatrix}\n",
    "$ $\\in \\mathbb{R}^n $\n",
    "\n",
    "\n",
    "<img src=\"pngs/vector.png\" width=\"200\" align=\"left\" >\n",
    "<br>\n",
    "<br>\n",
    "<br>\n",
    "\n",
    "$\n",
    "= \n",
    "1\\times\\begin{bmatrix}\n",
    "           2 \\\\\n",
    "           1 \\\\\n",
    "         \\end{bmatrix}\n",
    "$ $\\in \\mathbb{R}^2$\n",
    "\n"
   ]
  },
  {
   "cell_type": "markdown",
   "id": "41c84112",
   "metadata": {},
   "source": [
    "### Scalars\n",
    "A single vector in 2 dimensions always fills a line and nothing more as the scalar changes. In the image above, changing the scalar will result in the following:\n",
    "\\\n",
    "larger when $ c > 1$, \n",
    "\\\n",
    "shorter when $0 < c < 1$, \n",
    "\\\n",
    "$0$ if $c = 0$, \n",
    "\\\n",
    "or inverse if $c < 0$ \n",
    "\n"
   ]
  },
  {
   "cell_type": "markdown",
   "id": "f7075240",
   "metadata": {},
   "source": [
    "### Linear Combinations\n",
    "A Linear Combination is the sum of two or more vectors, they combine. A vector should generelly be seen from the origin (0, 0) but when doing vector addition and subtraction, it is helpful to view them in steps like in the picture below.\n",
    "\n",
    "<img src=\"pngs/linear-combination.png\" width=\"400\" align=\"left\" >\n",
    "\n"
   ]
  },
  {
   "cell_type": "markdown",
   "id": "33949eed",
   "metadata": {},
   "source": [
    "\n",
    "<img src=\"pngs/scalar-example.png\" width=\"200\" align=\"left\" >\n",
    "\n",
    "\n",
    "One important detail regarding Linear Combinations is in what space they fill after the scalar multiplication. A single vector in 2 dimensions can only fill a line because when the scalar $c$ changes, the vector will always point in the same or opposite direction regardless.\n"
   ]
  },
  {
   "cell_type": "markdown",
   "id": "23a72afe",
   "metadata": {},
   "source": [
    "When the combination of two vectors $cv$ + $dw$ happens, as long as one of the vectors is not a multiple of the other, all combinations of $c$ & $d$ will fill a 2d plane. This continues in n dimensions where f.e in 3d, as long as 2 of the vectors are not a combination of the third, it will fill the whole 3d space.\n",
    "\n",
    "In 3 dimensions, an equation as $x + y = b$ will actually fill a plane, why is that? Well when we have 3 axis, there is always a hidden $z$ such as $x + y + 0z = b$, hence any z is a solution to that equation and the that's a plane that's perpendicular to the xy axis. An example below where x + y + 0z = 0, the plane goes through the origin because when x = 0, y = 0 and z can be anything. \n",
    "\n",
    "\n",
    "<img src=\"pngs/plane-in-3d.png\" width=\"400\" align=\"left\" >"
   ]
  },
  {
   "cell_type": "markdown",
   "id": "4dc20561",
   "metadata": {},
   "source": [
    "### Indepdency & Dependency\n",
    "In a linear combination, the vectors can be independent or dependent. \n",
    "\n",
    "$cu + dv + ew = b$\n",
    "\n",
    "if $0u + 0v + 0w = 0$ is the only combination that produces the zero vector, then the vectors are independent. On the other hand there exist a combination such that:\n",
    "\n",
    "$cu + dv + ew = 0 =$\n",
    "\n",
    "$ew = -cu - dv$\n",
    "\n",
    "The vectors are dependent. This means that the vectors will live in a lower dimension, they can't produce what's required to fill the whole 3d space in this case. An easy thinking here is basically, in 2d space, can you ever produce a 3d vector? No, it's not possible, although the opposite is true, but it won't be really two dimensional, it will just fill a 2 dimensional space in 3 dimensional, so called a plane. \n"
   ]
  },
  {
   "cell_type": "code",
   "execution_count": null,
   "id": "c7d9e973",
   "metadata": {},
   "outputs": [],
   "source": []
  }
 ],
 "metadata": {
  "kernelspec": {
   "display_name": "Python 3 (ipykernel)",
   "language": "python",
   "name": "python3"
  },
  "language_info": {
   "codemirror_mode": {
    "name": "ipython",
    "version": 3
   },
   "file_extension": ".py",
   "mimetype": "text/x-python",
   "name": "python",
   "nbconvert_exporter": "python",
   "pygments_lexer": "ipython3",
   "version": "3.10.8"
  }
 },
 "nbformat": 4,
 "nbformat_minor": 5
}
