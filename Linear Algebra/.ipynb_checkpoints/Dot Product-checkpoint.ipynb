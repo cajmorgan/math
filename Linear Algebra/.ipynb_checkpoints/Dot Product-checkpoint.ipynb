{
 "cells": [
  {
   "cell_type": "markdown",
   "id": "6907c66b",
   "metadata": {},
   "source": [
    "# Dot Product\n",
    "\n",
    "\n",
    "\n",
    "\n",
    "## Vector Times itself square is the length of it - prove it easily page 12"
   ]
  }
 ],
 "metadata": {
  "kernelspec": {
   "display_name": "Python 3 (ipykernel)",
   "language": "python",
   "name": "python3"
  },
  "language_info": {
   "codemirror_mode": {
    "name": "ipython",
    "version": 3
   },
   "file_extension": ".py",
   "mimetype": "text/x-python",
   "name": "python",
   "nbconvert_exporter": "python",
   "pygments_lexer": "ipython3",
   "version": "3.10.8"
  }
 },
 "nbformat": 4,
 "nbformat_minor": 5
}
