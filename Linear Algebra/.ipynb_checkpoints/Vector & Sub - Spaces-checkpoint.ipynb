{
 "cells": [
  {
   "cell_type": "markdown",
   "id": "a1c5163e",
   "metadata": {},
   "source": [
    "# Vector & Sub - Spaces\n",
    "## Vector Space\n",
    "Vector spaces are every point in $R^n$ that the vector with 2 components exists. A vector in $R^2$ will have 2 components, always, even if it's zero.\n",
    "\n",
    "$V = \\begin{bmatrix}\n",
    "        a \\\\\n",
    "        b\n",
    "    \\end{bmatrix}\n",
    "    $\n",
    "\n",
    "A vector space is a group and needs to follow a set of rules with multiplication and addition, that makes sense and aren't contradictory.\n",
    "\n",
    "## Subspace\n",
    "A subspace is a space within a vector space that follows certain rules. The most important and obvious one is that regardless of allowed operations that are applied (addition & multiplication in this case), the vector will stay in that subspace. In $R^2$ there are 3 subspaces:\n",
    "- All of $R^2$\n",
    "- Any line through the origin, the reason for this is if you pick a vector, you can scale it in any direction and also add other vectors in that same space (the line!) and it will only stay in that space!\n",
    "- The zero vector. You can multiply anything with the zero vector and add those together and it's still in that subspace."
   ]
  },
  {
   "cell_type": "code",
   "execution_count": null,
   "id": "3035b5e7",
   "metadata": {},
   "outputs": [],
   "source": []
  }
 ],
 "metadata": {
  "kernelspec": {
   "display_name": "Python 3 (ipykernel)",
   "language": "python",
   "name": "python3"
  },
  "language_info": {
   "codemirror_mode": {
    "name": "ipython",
    "version": 3
   },
   "file_extension": ".py",
   "mimetype": "text/x-python",
   "name": "python",
   "nbconvert_exporter": "python",
   "pygments_lexer": "ipython3",
   "version": "3.10.8"
  }
 },
 "nbformat": 4,
 "nbformat_minor": 5
}
