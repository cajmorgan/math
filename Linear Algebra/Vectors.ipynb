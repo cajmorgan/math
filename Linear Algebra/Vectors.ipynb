{
 "cells": [
  {
   "cell_type": "markdown",
   "id": "4dda1433",
   "metadata": {},
   "source": [
    "# Vectors\n",
    "\n",
    "## General\n",
    "Vectors are the basis of Linear Algebra and can be viewed in many different ways, but are usually drawn as arrows. \n",
    "A vector resides in n dimensions and that is dictated by how many rows that vector contains. Every vector is always multiplied by a single value called a *scalar* and is shown in the example below as $c$.\n",
    "\n",
    "$\n",
    "c\\times\\begin{bmatrix}\n",
    "           x_{1} \\\\\n",
    "           x_{2} \\\\\n",
    "           \\vdots \\\\\n",
    "           x_{n}\n",
    "         \\end{bmatrix}\n",
    "$ $\\in \\mathbb{R}^n $\n",
    "\n",
    "\n",
    "<img src=\"pngs/vector.png\" width=\"200\" align=\"left\" >\n",
    "<br>\n",
    "<br>\n",
    "<br>\n",
    "\n",
    "$\n",
    "= \n",
    "1\\times\\begin{bmatrix}\n",
    "           2 \\\\\n",
    "           1 \\\\\n",
    "         \\end{bmatrix}\n",
    "$ $\\in \\mathbb{R}^2$\n",
    "\n"
   ]
  },
  {
   "cell_type": "markdown",
   "id": "41c84112",
   "metadata": {},
   "source": [
    "### Scalars\n",
    "A single vector always fills a line and nothing more as the scalar changes. In the image above, changing the scalar will result in the following:\n",
    "\\\n",
    "larger when $ c > 1$, \n",
    "\\\n",
    "shorter when $0 < c < 1$, \n",
    "\\\n",
    "$0$ if $c = 0$, \n",
    "\\\n",
    "or inverse if $c < 0$ \n",
    "\n"
   ]
  },
  {
   "cell_type": "markdown",
   "id": "f7075240",
   "metadata": {},
   "source": [
    "### Linear Combinations"
   ]
  },
  {
   "cell_type": "code",
   "execution_count": null,
   "id": "ecef9687",
   "metadata": {},
   "outputs": [],
   "source": []
  }
 ],
 "metadata": {
  "kernelspec": {
   "display_name": "Python 3 (ipykernel)",
   "language": "python",
   "name": "python3"
  },
  "language_info": {
   "codemirror_mode": {
    "name": "ipython",
    "version": 3
   },
   "file_extension": ".py",
   "mimetype": "text/x-python",
   "name": "python",
   "nbconvert_exporter": "python",
   "pygments_lexer": "ipython3",
   "version": "3.10.8"
  }
 },
 "nbformat": 4,
 "nbformat_minor": 5
}
