{
 "cells": [
  {
   "cell_type": "markdown",
   "id": "78a3cf6d",
   "metadata": {},
   "source": [
    "# Linear Equations\n",
    "\n",
    "## Row & Column Pictures\n",
    "\n",
    "### Row Picture\n",
    "The row picture is basically what we learn from the normal Algebra class, where we view every row of the matrix as the equation, f.e in 2 dimensions, x + y = 3 and draw the line that corresponds to that and the next row. The solution will be were those objects meet.\n",
    "\n",
    "### Column Picture\n",
    "The column picture on the other hand is when we view the matrix as the vectors every column represents and draw the solution as a **linear combination**. "
   ]
  },
  {
   "cell_type": "code",
   "execution_count": null,
   "id": "0853bc0f",
   "metadata": {},
   "outputs": [],
   "source": []
  }
 ],
 "metadata": {
  "kernelspec": {
   "display_name": "Python 3 (ipykernel)",
   "language": "python",
   "name": "python3"
  },
  "language_info": {
   "codemirror_mode": {
    "name": "ipython",
    "version": 3
   },
   "file_extension": ".py",
   "mimetype": "text/x-python",
   "name": "python",
   "nbconvert_exporter": "python",
   "pygments_lexer": "ipython3",
   "version": "3.10.8"
  }
 },
 "nbformat": 4,
 "nbformat_minor": 5
}
