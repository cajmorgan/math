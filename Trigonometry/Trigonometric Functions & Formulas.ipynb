{
 "cells": [
  {
   "cell_type": "markdown",
   "id": "18748e74",
   "metadata": {},
   "source": [
    "# Trignometric Functions & Formulas\n",
    "\n",
    "## Intro\n",
    "\n",
    "A lot of trignometry is based around different formulas for efficient usage, here some proofs and exercises will be demonstrated"
   ]
  },
  {
   "cell_type": "markdown",
   "id": "b59c1ac3",
   "metadata": {},
   "source": [
    "## Laws of Trigonometric Functions\n",
    "\n",
    "### Law of Sine\n",
    "\\begin{align}\n",
    "\\frac{sin(A)}{a} = \\frac{sin(B)}{b} = \\frac{sin(C)}{c}\n",
    "\\end{align}\n",
    "\n",
    "\n",
    "#### Proof\n",
    "This is a general algebraic/visual proof of Law of Sines which is pretty straight forward and easy to understand.\n",
    "\n",
    "\n",
    "\n",
    "<img src=\"./svgs/law-of-sine.svg\" width=600 align=\"left\"> \n",
    "\n",
    "<div>\n",
    "\\begin{align}\n",
    "\\sin(A) = \\frac{h_1}{a} \\\\\n",
    "\\sin(B) = \\frac{h_1}{b} \\\\\n",
    "\\sin(C) = \\frac{h_2}{a} \\\\\n",
    "\\sin(A) = \\frac{h_2}{c} \\\\\n",
    "\\end{align}\n",
    "\n",
    "\\begin{align}\n",
    "a \\times sin(B) = b \\times sin(A) \\\\ \\\\\n",
    "a \\times sin(C) = c \\times sin(A) \\\\\n",
    "\\end{align}\n",
    "\n",
    "\\begin{align}\n",
    "\\frac{sin(A)}{a} = \\frac{sin(B)}{b} = \\frac{sin(C)}{c} \\\\\n",
    "\\end{align}\n",
    "\n",
    "\n",
    "</div>\n",
    "\n"
   ]
  },
  {
   "cell_type": "code",
   "execution_count": null,
   "id": "220fcc52",
   "metadata": {},
   "outputs": [],
   "source": []
  }
 ],
 "metadata": {
  "kernelspec": {
   "display_name": "Python 3 (ipykernel)",
   "language": "python",
   "name": "python3"
  },
  "language_info": {
   "codemirror_mode": {
    "name": "ipython",
    "version": 3
   },
   "file_extension": ".py",
   "mimetype": "text/x-python",
   "name": "python",
   "nbconvert_exporter": "python",
   "pygments_lexer": "ipython3",
   "version": "3.10.8"
  }
 },
 "nbformat": 4,
 "nbformat_minor": 5
}
