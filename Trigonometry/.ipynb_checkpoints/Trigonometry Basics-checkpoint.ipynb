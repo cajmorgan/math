{
 "cells": [
  {
   "cell_type": "markdown",
   "id": "53422b36",
   "metadata": {},
   "source": [
    "\n",
    "\n",
    "\n",
    "Unit Circle\n",
    "General Explanation \n",
    "Radians to Degrees and vice verse"
   ]
  },
  {
   "cell_type": "markdown",
   "id": "840e4679",
   "metadata": {},
   "source": [
    "### Degrees & Radians\n",
    "explanations etc etc...\n",
    "\n",
    "#### Degrees -> Radians\n",
    "\n",
    "#### Radians -> Degrees"
   ]
  }
 ],
 "metadata": {
  "kernelspec": {
   "display_name": "Python 3 (ipykernel)",
   "language": "python",
   "name": "python3"
  },
  "language_info": {
   "codemirror_mode": {
    "name": "ipython",
    "version": 3
   },
   "file_extension": ".py",
   "mimetype": "text/x-python",
   "name": "python",
   "nbconvert_exporter": "python",
   "pygments_lexer": "ipython3",
   "version": "3.10.8"
  }
 },
 "nbformat": 4,
 "nbformat_minor": 5
}
