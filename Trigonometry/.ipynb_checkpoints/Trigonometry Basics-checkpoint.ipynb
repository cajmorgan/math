{
 "cells": [
  {
   "cell_type": "markdown",
   "id": "53422b36",
   "metadata": {},
   "source": [
    "\n",
    "\n",
    "\n",
    "Unit Circle\n",
    "General Explanation \n",
    "Radians to Degrees and vice verse"
   ]
  },
  {
   "cell_type": "markdown",
   "id": "840e4679",
   "metadata": {},
   "source": [
    "### Degrees & Radians\n",
    "explanations etc etc...\n",
    "\n",
    "#### Degrees -> Radians\n",
    "\n",
    "#### Radians -> Degrees"
   ]
  },
  {
   "cell_type": "markdown",
   "id": "fa32db5e",
   "metadata": {},
   "source": [
    "### Using Trigonometry to prove $\\angle\\alpha+\\angle\\beta+\\angle\\gamma = 180^{\\circ}$ \n",
    "This is one Trigonometry proof for prooving that the sum of the angles in a triangle is always $180^{\\circ}$. This proof can be directly written out from a triangle drawing through reasoning, but we will do it through algebra.\n",
    "\n",
    "$\\alpha + \\beta + \\gamma = 180$ \n",
    "\n",
    "$\\sin(\\alpha + \\beta + \\gamma) = 0$ \n",
    "\n",
    "To solve it in this direction, the addition formula for sine is handy (proven in other document):\n",
    "\n",
    "$\\sin(x + y) = \\sin(x)\\times\\cos(y) + \\sin(y)\\times\\cos(x)$\n",
    "\n",
    "\n",
    "#### Derivation\n",
    "\n",
    "$\\sin(\\alpha + (\\beta + \\gamma)) = 0$ \n",
    "\n",
    "$\\sin(\\alpha)\\times\\cos(\\beta+\\gamma) + \\sin(\\beta+\\gamma)\\times\\cos(\\alpha) = 0 $\n",
    "\n",
    "$\\sin(\\alpha)\\times\\cos(\\beta+\\gamma) = -\\sin(\\beta+\\gamma)\\times\\cos(\\alpha) $\n",
    "\n",
    "$\\frac{\\sin(\\alpha)}{\\cos(\\alpha)} = \\frac{\\sin(\\beta+\\gamma)}{-\\cos(\\beta+\\gamma)} $\n",
    "\n",
    "This means that, when $\\sin(\\alpha + (\\beta + \\gamma)) = 0$ \n",
    "\n",
    "$\\sin(\\alpha) = \\sin(\\beta+\\gamma)$\n",
    "\n",
    "&\n",
    "\n",
    "$\\cos(\\alpha) = -\\cos(\\beta+\\gamma)$\n",
    "\n",
    "\n",
    "Note that we can continue using the addition formula to solve for $\\beta$ & $\\gamma$ with the same respective results.\n",
    "We can aquire:\n",
    "\n",
    "$\\frac{\\sin(\\beta)}{\\cos(\\beta)} = \\frac{\\sin(\\alpha+\\gamma)}{-\\cos(\\alpha+\\gamma)} $\n",
    "Which we want for the following drawing.\n",
    "\n",
    "This might be pretty obvious if we just visualize a circle and some basics trigonometry rules, but the point here is to visualize this with a triangle and how that can prove the statement. \n",
    "\n",
    "*Notice the minus sign is applied to cos and not sine? that's because $\\cos(180 - \\theta) = -\\cos(\\theta)$*\n",
    "\n",
    "<img src=\"./svgs/180deg-proof.svg\" width=600 align=\"center\"> \n",
    "\n",
    "By standard definition of the trigonometric functions:\n",
    "\n",
    "$\\sin(\\beta) = \\frac{h_1}{b}$\n",
    "\n",
    "That top-left angle must also be $\\beta$ based on the drawn rectangle and it's congruent sides. \n",
    "\n",
    "According to the statement $\\sin(\\beta) = \\sin(\\alpha + \\gamma)$ and if you $\\arcsin$ both sides you will get two answers:\n",
    "\n",
    "$\\beta_1 = \\alpha + \\gamma \\times 360n$ \n",
    "\n",
    "$\\beta_2 = 180 - \\alpha + \\gamma \\times 360n$\n",
    "\n",
    "In this particular case, if we look at the picture, we know for sure by vision that $\\beta \\neq \\alpha + \\gamma$, therefore the second option is obviously the correct one. In a normal period of 360$^{\\circ}$, how can you tell how many full rotations something has already spun, without seeing it first? You are basically back to where you started, and $\\arcsin(0)$ is actually equal to both 180$^{\\circ}$ and 0$^{\\circ}$.  \n",
    "\n",
    "If we zoom out to any triangle, we can easily prove this because the same steps will always be applicable, no matter how the triangle looks like. The statement will always be true if sin(180$^{\\circ}$) = 0 and drawing a rectangle in a similar fashion and a line perpendicular to the triangle's height will also **always** be possible, but these things can of course be proven separately.\n",
    "\n",
    "So to summarize, we can use the above derivation to prove some equalities with angles through the sine function and if we add them up by the derivation, the sine of them will always equal 0 and the arcsine, 0$^{\\circ}$ or 180$^{\\circ}$ and as we know that the sum of the natural angles are not 0$^{\\circ}$, it must be 180$^{\\circ}$. "
   ]
  },
  {
   "cell_type": "code",
   "execution_count": null,
   "id": "e33c3884",
   "metadata": {},
   "outputs": [],
   "source": []
  },
  {
   "cell_type": "code",
   "execution_count": null,
   "id": "11067a87",
   "metadata": {},
   "outputs": [],
   "source": []
  }
 ],
 "metadata": {
  "kernelspec": {
   "display_name": "Python 3 (ipykernel)",
   "language": "python",
   "name": "python3"
  },
  "language_info": {
   "codemirror_mode": {
    "name": "ipython",
    "version": 3
   },
   "file_extension": ".py",
   "mimetype": "text/x-python",
   "name": "python",
   "nbconvert_exporter": "python",
   "pygments_lexer": "ipython3",
   "version": "3.10.8"
  }
 },
 "nbformat": 4,
 "nbformat_minor": 5
}
