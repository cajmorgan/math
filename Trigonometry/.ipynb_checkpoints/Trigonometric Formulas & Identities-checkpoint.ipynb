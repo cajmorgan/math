{
 "cells": [
  {
   "cell_type": "markdown",
   "id": "18748e74",
   "metadata": {},
   "source": [
    "# Trignometric Functions & Formulas\n",
    "\n",
    "## Intro\n",
    "\n",
    "A lot of trignometry is based around different formulas for efficient usage, here some proofs and exercises will be demonstrated"
   ]
  },
  {
   "cell_type": "markdown",
   "id": "b59c1ac3",
   "metadata": {},
   "source": [
    "## Laws of Trigonometric Functions\n",
    "\n"
   ]
  },
  {
   "cell_type": "markdown",
   "id": "6f790772",
   "metadata": {},
   "source": [
    "### Law of Sine\n",
    "\n",
    "Formula: $$\\frac{sin(A)}{a} = \\frac{sin(B)}{b} = \\frac{sin(C)}{c}$$ \n",
    "\n",
    "\n",
    "#### Proof\n",
    "This is a general algebraic/visual proof of Law of Sines which is pretty straight forward and easy to understand.\n",
    "\n",
    "<img src=\"./svgs/law-of-sine.svg\" width=600 align=\"center\"> \n",
    "\n",
    "\n",
    "$\\sin(A) = \\frac{h_1}{a}$\n",
    "\n",
    "$\\sin(B) = \\frac{h_1}{b}$\n",
    "\n",
    "$\\sin(C) = \\frac{h_2}{a}$\n",
    "\n",
    "$\\sin(A) = \\frac{h_2}{c}$\n",
    "\n",
    "\n",
    "$a \\times sin(B) = b \\times sin(A)$\n",
    "$a \\times sin(C) = c \\times sin(A)$\n",
    "\n",
    "\n",
    "$\\frac{sin(A)}{a} = \\frac{sin(B)}{b} = \\frac{sin(C)}{c}$\n"
   ]
  },
  {
   "cell_type": "code",
   "execution_count": 25,
   "id": "2debc6b8",
   "metadata": {},
   "outputs": [
    {
     "name": "stdout",
     "output_type": "stream",
     "text": [
      "True\n"
     ]
    }
   ],
   "source": [
    "#### Exercise Example\n",
    "# In the above triangle,\n",
    "# - find angle A in radians & degrees with the provided variables below\n",
    "\n",
    "from math import sin, pi, asin\n",
    "\n",
    "b = 6\n",
    "c = 4\n",
    "B = 1.1344640137963142 # in radians\n",
    "\n",
    "sinB = sin(B) / b\n",
    "C = asin(c * sinB)\n",
    "sinC = sin(C) / c\n",
    "\n",
    "print(sinB == sinC)\n",
    "\n",
    "\n"
   ]
  },
  {
   "cell_type": "markdown",
   "id": "03f8386a",
   "metadata": {},
   "source": [
    "### Law of Cosine\n",
    "\n",
    "Formula: $$a^2 = \\sqrt{b^2 + c^2 - 2bc\\times\\cos(A)} $$\n",
    "    \n",
    "#### Proof\n",
    "This is a general algebraic/visual proof of Law of Cosines which is a bit more complex than the previous. In this case we are using a triangle with an obtuse angle. The proof would work a little bit different for a triangle with only acute angles, but, the same logic applies.\n",
    "\n",
    "We first draw an extra \"ghost\" triangle (in yellow) to the left and then solve for $a$. Note that $\\cos(180 - A) = -\\cos(A)$\n",
    "\n",
    "<img src=\"./svgs/law-of-cosine.svg\" width=600 align=\"center\"> \n",
    "\n",
    "$a = \\sqrt{(c_1+c)^2 + b_1^2}$\n",
    "\n",
    "$b_1 = \\sqrt{b^2 - c_1^2}$\n",
    "\n",
    "$\\frac{c_1}{b} = -\\cos(A)$\n",
    "\n",
    "$c_1 = -\\cos(A)\\times b$\n",
    "\n",
    "Substitute $c_1$ and $b_1$ in $a$, notice the exponent in $b_1$:\n",
    "\n",
    "$a = \\sqrt{(-\\cos(A)\\times b + c)^2 + b^2 - c_1^2}$\n",
    "\n",
    "$a = \\sqrt{\\cos^2(A)\\times b^2 + c^2 - 2ab\\cos(A) + b^2 - \\cos^2(A)\\times b^2}$\n",
    "\n",
    "$a = \\sqrt{b^2 + c^2 - 2ab\\cos(A)}$\n",
    "\n",
    "*Note that some substitution steps are skipped here, but if you solve the equation you will see them*"
   ]
  },
  {
   "cell_type": "markdown",
   "id": "982b0ae8",
   "metadata": {},
   "source": [
    "## Addition formulas\n",
    "These formulas are very important to know about as they are extremely useful in many different applications such as pure Trignometry, Calculus, Complex numbers and even in Linear Algebra! \n",
    "\n",
    "Before proving them, here they are:\n",
    "\n",
    "$sin(a + b) = sin(a)cos(b) + sin(b)cos(a)$\n",
    "\n",
    "$sin(a - b) = sin(a)cos(b) - sin(b)cos(a)$\n",
    "\n",
    "$cos(a + b) = sin(a)sin(b) - cos(a)cos(b)$\n",
    "\n",
    "$cos(a - b) = sin(a)sin(b) + cos(a)cos(b)$\n"
   ]
  },
  {
   "cell_type": "code",
   "execution_count": null,
   "id": "c47f8293",
   "metadata": {},
   "outputs": [],
   "source": []
  }
 ],
 "metadata": {
  "kernelspec": {
   "display_name": "Python 3 (ipykernel)",
   "language": "python",
   "name": "python3"
  },
  "language_info": {
   "codemirror_mode": {
    "name": "ipython",
    "version": 3
   },
   "file_extension": ".py",
   "mimetype": "text/x-python",
   "name": "python",
   "nbconvert_exporter": "python",
   "pygments_lexer": "ipython3",
   "version": "3.9.12"
  }
 },
 "nbformat": 4,
 "nbformat_minor": 5
}
