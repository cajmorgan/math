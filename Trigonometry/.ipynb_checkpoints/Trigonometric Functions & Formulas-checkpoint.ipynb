{
 "cells": [
  {
   "cell_type": "markdown",
   "id": "18748e74",
   "metadata": {},
   "source": [
    "# Trignometric Functions & Formulas\n",
    "\n",
    "## Intro\n",
    "\n",
    "A lot of trignometry is based around different formulas for efficient usage, here some proofs and exercises will be demonstrated"
   ]
  },
  {
   "cell_type": "markdown",
   "id": "b59c1ac3",
   "metadata": {},
   "source": [
    "## Laws of Trigonometric Functions\n",
    "\n",
    "### Law of Sine\n"
   ]
  },
  {
   "cell_type": "code",
   "execution_count": 1,
   "id": "7eb38daf",
   "metadata": {
    "tags": [
     "remove_cell"
    ]
   },
   "outputs": [],
   "source": [
    "%load_ext tikzmagic\n"
   ]
  },
  {
   "cell_type": "code",
   "execution_count": 4,
   "id": "6283de65",
   "metadata": {
    "tags": [
     "hide_input",
     "hide-input"
    ]
   },
   "outputs": [
    {
     "data": {
      "image/png": "[encoded data removed]"
     },
     "metadata": {},
     "output_type": "display_data"
    }
   ],
   "source": [
    "%%tikz -s 400,400 -sc 1.2 -f png\n",
    "\\draw (0,0) node[anchor=north]{$A$}\n",
    "  -- (6,0) node[anchor=north]{$C$}\n",
    "  -- (4,4) node[anchor=south]{$B$}\n",
    "  -- cycle;"
   ]
  },
  {
   "cell_type": "code",
   "execution_count": null,
   "id": "abdb65cb",
   "metadata": {},
   "outputs": [],
   "source": []
  }
 ],
 "metadata": {
  "celltoolbar": "Tags",
  "kernelspec": {
   "display_name": "Python 3 (ipykernel)",
   "language": "python",
   "name": "python3"
  },
  "language_info": {
   "codemirror_mode": {
    "name": "ipython",
    "version": 3
   },
   "file_extension": ".py",
   "mimetype": "text/x-python",
   "name": "python",
   "nbconvert_exporter": "python",
   "pygments_lexer": "ipython3",
   "version": "3.10.8"
  }
 },
 "nbformat": 4,
 "nbformat_minor": 5
}
