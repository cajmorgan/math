{
 "cells": [
  {
   "cell_type": "markdown",
   "id": "55d05de1",
   "metadata": {},
   "source": [
    "# Summation Series\n",
    "\n",
    "## Gaussian Sum\n",
    "\n",
    "### $\\frac{n(n + 1)}{2} = s$\n",
    "\n",
    "The famous story about Gauss 7 year old inventing the summation series formula in the class room when the teach asked all students to sum every number from 1 to 100. It's a beautiful formula which at a first glance can seem pretty random, why does that specifically produce the sum of all numbers up to $n$? \n",
    "\n",
    "Let's take a look, is there a way to sum all the numbers in a similar way to use a pattern? Let's choose $n = 4$. \n",
    "\n",
    "$4 + 3 + 2 + 1 = 10$\n",
    "\n",
    "$(4 + 1) + (3 + 2) = 10$\n",
    "\n",
    "$(4 + 1) + ((4 - 1) + 2) = 10$\n",
    "\n",
    "If we can see this pattern and use it all the way, f.e\n",
    "\n",
    "$(4 + 1) + ((4 - 1) + 2) + ((4 - 2) + 3) + ((4 - 3) + 4) = 20$ \n",
    "\n",
    "Notice that we are adding the exact same numbers two times, (4 + 1), ((4-3) + 4) and the other two, they are just in the inverse order and addition is *commutative*. Also, notice that the iterative process is $n$ times:\n",
    "\n",
    "## $\\sum_{i=1}^{4} i = 10$\n",
    "\n",
    "If we make this a bit more abstract, let's define the above as\n",
    "\n",
    "$(n + 1) + ((n - 1) + 2) \\; + \\,...\\, + \\; (2 + (n - 1)) + (1 + n) = 2s$ \n",
    "\n",
    "If we divide the whole expression by $2$ we will remove all doublets:\n",
    "\n",
    "$(n + 1) + ((n - 1) + 2) \\; + \\,...\\, \\;  = s$ \n",
    "\n",
    "If we do solve out all the additions/subtractions in every instance we end up with \n",
    "\n",
    "$(n + 1) + (n + 1) \\; + \\,...\\, + \\; (n + 1)  = s$ \n",
    "\n",
    "So basically every instance is the same number, $n + 1$, how convenient! \n",
    "\n",
    "We already know for a fact that in the first example before divison, we added every $n + 1$ $n$ times, so now it will be $\\frac{n}{2}$ - times!\n",
    "Which means, we arrive at the formula:\n",
    "\n",
    "$\\frac{n}{2} \\times (n + 1) = s$\n",
    "\n",
    "$\\frac{n(n + 1)}{2} = s$\n"
   ]
  },
  {
   "cell_type": "markdown",
   "id": "d155cd3b",
   "metadata": {},
   "source": [
    "## Geometric Sequences\n"
   ]
  }
 ],
 "metadata": {
  "kernelspec": {
   "display_name": "Python 3 (ipykernel)",
   "language": "python",
   "name": "python3"
  },
  "language_info": {
   "codemirror_mode": {
    "name": "ipython",
    "version": 3
   },
   "file_extension": ".py",
   "mimetype": "text/x-python",
   "name": "python",
   "nbconvert_exporter": "python",
   "pygments_lexer": "ipython3",
   "version": "3.9.12"
  }
 },
 "nbformat": 4,
 "nbformat_minor": 5
}
